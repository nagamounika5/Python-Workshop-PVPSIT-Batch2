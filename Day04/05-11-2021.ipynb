{
 "cells": [
  {
   "cell_type": "markdown",
   "metadata": {},
   "source": [
    "### Comprehensions\n",
    "- Shorthand codeing\n",
    "- Types\n",
    "    - List Comprehension\n",
    "    - Tuple Comprehension\n",
    "    - Dictionary Comprehension\n",
    "    - Set Comprehension"
   ]
  },
  {
   "cell_type": "markdown",
   "metadata": {},
   "source": [
    "**List Comprehensions**\n",
    "- List comprehensions can create one new list from the other iterables.\n",
    "- Syntax:\n",
    "    - [ Statement ..for loop ]"
   ]
  },
  {
   "cell_type": "code",
   "execution_count": 1,
   "metadata": {},
   "outputs": [],
   "source": [
    "list1 = []\n",
    "for i in range(1,11):\n",
    "    list1.append(i)"
   ]
  },
  {
   "cell_type": "code",
   "execution_count": 2,
   "metadata": {},
   "outputs": [
    {
     "data": {
      "text/plain": [
       "[1, 2, 3, 4, 5, 6, 7, 8, 9, 10]"
      ]
     },
     "execution_count": 2,
     "metadata": {},
     "output_type": "execute_result"
    }
   ],
   "source": [
    "list1"
   ]
  },
  {
   "cell_type": "code",
   "execution_count": 4,
   "metadata": {},
   "outputs": [
    {
     "data": {
      "text/plain": [
       "[1, 2, 3, 4, 5, 6, 7, 8, 9, 10]"
      ]
     },
     "execution_count": 4,
     "metadata": {},
     "output_type": "execute_result"
    }
   ],
   "source": [
    "# List comprehensions\n",
    "[i for i in range(1,11)]"
   ]
  },
  {
   "cell_type": "code",
   "execution_count": 5,
   "metadata": {},
   "outputs": [
    {
     "name": "stdout",
     "output_type": "stream",
     "text": [
      "Odd\n"
     ]
    }
   ],
   "source": [
    "# conditional statements using comprehensions\n",
    "number = 8989\n",
    "if number%2 == 0:  ## Condition\n",
    "    print('Even')  ## if Statement\n",
    "else: \n",
    "    print('Odd')  ## else Statement"
   ]
  },
  {
   "cell_type": "code",
   "execution_count": 7,
   "metadata": {},
   "outputs": [
    {
     "data": {
      "text/plain": [
       "['Even']"
      ]
     },
     "execution_count": 7,
     "metadata": {},
     "output_type": "execute_result"
    }
   ],
   "source": [
    "# [STatement  if condition else statement]\n",
    "number2 = 8988\n",
    "['Even' if(number2%2 == 0) else 'Odd']"
   ]
  },
  {
   "cell_type": "code",
   "execution_count": 9,
   "metadata": {
    "collapsed": true
   },
   "outputs": [
    {
     "name": "stdout",
     "output_type": "stream",
     "text": [
      "30\t32\t34\t36\t38\t40\t42\t44\t46\t48\t50\t52\t54\t56\t58\t60\t"
     ]
    }
   ],
   "source": [
    "for i in range(30,61):\n",
    "    if i %2 == 0:\n",
    "        print(i, end = '\\t')"
   ]
  },
  {
   "cell_type": "code",
   "execution_count": 10,
   "metadata": {
    "collapsed": true
   },
   "outputs": [
    {
     "data": {
      "text/plain": [
       "[30, 32, 34, 36, 38, 40, 42, 44, 46, 48, 50, 52, 54, 56, 58, 60]"
      ]
     },
     "execution_count": 10,
     "metadata": {},
     "output_type": "execute_result"
    }
   ],
   "source": [
    "# [statement for loop if(condition)]\n",
    "[i for i in range(30,61) if(i%2 == 0)]"
   ]
  },
  {
   "cell_type": "code",
   "execution_count": 11,
   "metadata": {
    "collapsed": true
   },
   "outputs": [
    {
     "data": {
      "text/plain": [
       "['Even',\n",
       " 'Odd',\n",
       " 'Even',\n",
       " 'Odd',\n",
       " 'Even',\n",
       " 'Odd',\n",
       " 'Even',\n",
       " 'Odd',\n",
       " 'Even',\n",
       " 'Odd',\n",
       " 'Even',\n",
       " 'Odd',\n",
       " 'Even',\n",
       " 'Odd',\n",
       " 'Even',\n",
       " 'Odd',\n",
       " 'Even',\n",
       " 'Odd',\n",
       " 'Even',\n",
       " 'Odd',\n",
       " 'Even',\n",
       " 'Odd',\n",
       " 'Even',\n",
       " 'Odd',\n",
       " 'Even',\n",
       " 'Odd',\n",
       " 'Even',\n",
       " 'Odd',\n",
       " 'Even',\n",
       " 'Odd',\n",
       " 'Even']"
      ]
     },
     "execution_count": 11,
     "metadata": {},
     "output_type": "execute_result"
    }
   ],
   "source": [
    "# [Statement if(condition) else statement for loop]\n",
    "['Even' if(i%2 == 0) else 'Odd' for i in range(30,61)]"
   ]
  },
  {
   "cell_type": "markdown",
   "metadata": {},
   "source": [
    "- Take a range of numbers 400 to 500,\n",
    "    - if number divisible by 5 print divisible by 5\n",
    "    - if number divisible by 7 print divisible by 7\n",
    "    - else not divisible by 5 and 7"
   ]
  },
  {
   "cell_type": "code",
   "execution_count": 12,
   "metadata": {},
   "outputs": [],
   "source": [
    "list2 = []\n",
    "for i in range(400, 501):\n",
    "    if i%5 == 0:\n",
    "        list2.append('divisible by 5')\n",
    "    elif i%7 == 0:\n",
    "        list2.append('divisible by 7')\n",
    "    else: \n",
    "        list2.append(' Not divisible')"
   ]
  },
  {
   "cell_type": "code",
   "execution_count": 13,
   "metadata": {
    "collapsed": true
   },
   "outputs": [
    {
     "data": {
      "text/plain": [
       "['divisible by 5',\n",
       " ' Not divisible',\n",
       " ' Not divisible',\n",
       " ' Not divisible',\n",
       " ' Not divisible',\n",
       " 'divisible by 5',\n",
       " 'divisible by 7',\n",
       " ' Not divisible',\n",
       " ' Not divisible',\n",
       " ' Not divisible',\n",
       " 'divisible by 5',\n",
       " ' Not divisible',\n",
       " ' Not divisible',\n",
       " 'divisible by 7',\n",
       " ' Not divisible',\n",
       " 'divisible by 5',\n",
       " ' Not divisible',\n",
       " ' Not divisible',\n",
       " ' Not divisible',\n",
       " ' Not divisible',\n",
       " 'divisible by 5',\n",
       " ' Not divisible',\n",
       " ' Not divisible',\n",
       " ' Not divisible',\n",
       " ' Not divisible',\n",
       " 'divisible by 5',\n",
       " ' Not divisible',\n",
       " 'divisible by 7',\n",
       " ' Not divisible',\n",
       " ' Not divisible',\n",
       " 'divisible by 5',\n",
       " ' Not divisible',\n",
       " ' Not divisible',\n",
       " ' Not divisible',\n",
       " 'divisible by 7',\n",
       " 'divisible by 5',\n",
       " ' Not divisible',\n",
       " ' Not divisible',\n",
       " ' Not divisible',\n",
       " ' Not divisible',\n",
       " 'divisible by 5',\n",
       " 'divisible by 7',\n",
       " ' Not divisible',\n",
       " ' Not divisible',\n",
       " ' Not divisible',\n",
       " 'divisible by 5',\n",
       " ' Not divisible',\n",
       " ' Not divisible',\n",
       " 'divisible by 7',\n",
       " ' Not divisible',\n",
       " 'divisible by 5',\n",
       " ' Not divisible',\n",
       " ' Not divisible',\n",
       " ' Not divisible',\n",
       " ' Not divisible',\n",
       " 'divisible by 5',\n",
       " ' Not divisible',\n",
       " ' Not divisible',\n",
       " ' Not divisible',\n",
       " ' Not divisible',\n",
       " 'divisible by 5',\n",
       " ' Not divisible',\n",
       " 'divisible by 7',\n",
       " ' Not divisible',\n",
       " ' Not divisible',\n",
       " 'divisible by 5',\n",
       " ' Not divisible',\n",
       " ' Not divisible',\n",
       " ' Not divisible',\n",
       " 'divisible by 7',\n",
       " 'divisible by 5',\n",
       " ' Not divisible',\n",
       " ' Not divisible',\n",
       " ' Not divisible',\n",
       " ' Not divisible',\n",
       " 'divisible by 5',\n",
       " 'divisible by 7',\n",
       " ' Not divisible',\n",
       " ' Not divisible',\n",
       " ' Not divisible',\n",
       " 'divisible by 5',\n",
       " ' Not divisible',\n",
       " ' Not divisible',\n",
       " 'divisible by 7',\n",
       " ' Not divisible',\n",
       " 'divisible by 5',\n",
       " ' Not divisible',\n",
       " ' Not divisible',\n",
       " ' Not divisible',\n",
       " ' Not divisible',\n",
       " 'divisible by 5',\n",
       " ' Not divisible',\n",
       " ' Not divisible',\n",
       " ' Not divisible',\n",
       " ' Not divisible',\n",
       " 'divisible by 5',\n",
       " ' Not divisible',\n",
       " 'divisible by 7',\n",
       " ' Not divisible',\n",
       " ' Not divisible',\n",
       " 'divisible by 5']"
      ]
     },
     "execution_count": 13,
     "metadata": {},
     "output_type": "execute_result"
    }
   ],
   "source": [
    "list2"
   ]
  },
  {
   "cell_type": "code",
   "execution_count": 14,
   "metadata": {
    "collapsed": true
   },
   "outputs": [
    {
     "data": {
      "text/plain": [
       "['divisible by 5',\n",
       " 'not divisible',\n",
       " 'not divisible',\n",
       " 'not divisible',\n",
       " 'not divisible',\n",
       " 'divisible by 5',\n",
       " 'divisible by 7',\n",
       " 'not divisible',\n",
       " 'not divisible',\n",
       " 'not divisible',\n",
       " 'divisible by 5',\n",
       " 'not divisible',\n",
       " 'not divisible',\n",
       " 'divisible by 7',\n",
       " 'not divisible',\n",
       " 'divisible by 5',\n",
       " 'not divisible',\n",
       " 'not divisible',\n",
       " 'not divisible',\n",
       " 'not divisible',\n",
       " 'divisible by 5',\n",
       " 'not divisible',\n",
       " 'not divisible',\n",
       " 'not divisible',\n",
       " 'not divisible',\n",
       " 'divisible by 5',\n",
       " 'not divisible',\n",
       " 'divisible by 7',\n",
       " 'not divisible',\n",
       " 'not divisible',\n",
       " 'divisible by 5',\n",
       " 'not divisible',\n",
       " 'not divisible',\n",
       " 'not divisible',\n",
       " 'divisible by 7',\n",
       " 'divisible by 5',\n",
       " 'not divisible',\n",
       " 'not divisible',\n",
       " 'not divisible',\n",
       " 'not divisible',\n",
       " 'divisible by 5',\n",
       " 'divisible by 7',\n",
       " 'not divisible',\n",
       " 'not divisible',\n",
       " 'not divisible',\n",
       " 'divisible by 5',\n",
       " 'not divisible',\n",
       " 'not divisible',\n",
       " 'divisible by 7',\n",
       " 'not divisible',\n",
       " 'divisible by 5',\n",
       " 'not divisible',\n",
       " 'not divisible',\n",
       " 'not divisible',\n",
       " 'not divisible',\n",
       " 'divisible by 5',\n",
       " 'not divisible',\n",
       " 'not divisible',\n",
       " 'not divisible',\n",
       " 'not divisible',\n",
       " 'divisible by 5',\n",
       " 'not divisible',\n",
       " 'divisible by 7',\n",
       " 'not divisible',\n",
       " 'not divisible',\n",
       " 'divisible by 5',\n",
       " 'not divisible',\n",
       " 'not divisible',\n",
       " 'not divisible',\n",
       " 'divisible by 7',\n",
       " 'divisible by 5',\n",
       " 'not divisible',\n",
       " 'not divisible',\n",
       " 'not divisible',\n",
       " 'not divisible',\n",
       " 'divisible by 5',\n",
       " 'divisible by 7',\n",
       " 'not divisible',\n",
       " 'not divisible',\n",
       " 'not divisible',\n",
       " 'divisible by 5',\n",
       " 'not divisible',\n",
       " 'not divisible',\n",
       " 'divisible by 7',\n",
       " 'not divisible',\n",
       " 'divisible by 5',\n",
       " 'not divisible',\n",
       " 'not divisible',\n",
       " 'not divisible',\n",
       " 'not divisible',\n",
       " 'divisible by 5',\n",
       " 'not divisible',\n",
       " 'not divisible',\n",
       " 'not divisible',\n",
       " 'not divisible',\n",
       " 'divisible by 5',\n",
       " 'not divisible',\n",
       " 'divisible by 7',\n",
       " 'not divisible',\n",
       " 'not divisible']"
      ]
     },
     "execution_count": 14,
     "metadata": {},
     "output_type": "execute_result"
    }
   ],
   "source": [
    "['divisible by 5' if(i%5 == 0)\n",
    "else 'divisible by 7' if(i%7 == 0)\n",
    "else 'not divisible'\n",
    "for i in range(400, 500)]"
   ]
  },
  {
   "cell_type": "code",
   "execution_count": 15,
   "metadata": {},
   "outputs": [],
   "source": [
    "string1 = '''Trinity College Dublin uses cookies to enable\n",
    "our website to operate, improve your browsing experience \n",
    "and provide personalised advertising which we believe may\n",
    "be of interest to you.'''"
   ]
  },
  {
   "cell_type": "markdown",
   "metadata": {},
   "source": [
    "- Print all the vowels in the above string"
   ]
  },
  {
   "cell_type": "code",
   "execution_count": 17,
   "metadata": {
    "collapsed": true
   },
   "outputs": [
    {
     "name": "stdout",
     "output_type": "stream",
     "text": [
      "i\ti\to\te\te\tu\ti\tu\te\to\to\ti\te\to\te\ta\te\to\tu\te\ti\te\to\to\te\ta\te\ti\to\te\to\tu\to\ti\te\te\ti\te\te\ta\to\ti\te\te\to\ta\ti\te\ta\te\ti\ti\ti\te\te\ti\te\te\ta\te\to\ti\te\te\to\to\tu\t"
     ]
    }
   ],
   "source": [
    "vowels = ['a','e','i','o','u']\n",
    "for i in string1:\n",
    "    if i in vowels:\n",
    "        print(i, end = '\\t')"
   ]
  },
  {
   "cell_type": "markdown",
   "metadata": {},
   "source": [
    "### functional programming\n",
    "- lambda\n",
    "- map\n",
    "- filter"
   ]
  },
  {
   "cell_type": "markdown",
   "metadata": {},
   "source": [
    "**Lambda**\n",
    "- Also known as anonymous function.\n",
    "- Used for creating small functions.\n",
    "- Syntax:\n",
    "    - lambda arg1, arg2, ... arg N : statement"
   ]
  },
  {
   "cell_type": "code",
   "execution_count": 18,
   "metadata": {},
   "outputs": [],
   "source": [
    "def addition1(arg1, arg2):\n",
    "    return arg1 + arg2"
   ]
  },
  {
   "cell_type": "code",
   "execution_count": 19,
   "metadata": {
    "collapsed": true
   },
   "outputs": [
    {
     "data": {
      "text/plain": [
       "30"
      ]
     },
     "execution_count": 19,
     "metadata": {},
     "output_type": "execute_result"
    }
   ],
   "source": [
    "addition1(10,20)"
   ]
  },
  {
   "cell_type": "code",
   "execution_count": 20,
   "metadata": {
    "collapsed": true
   },
   "outputs": [
    {
     "data": {
      "text/plain": [
       "function"
      ]
     },
     "execution_count": 20,
     "metadata": {},
     "output_type": "execute_result"
    }
   ],
   "source": [
    "type(addition1)"
   ]
  },
  {
   "cell_type": "code",
   "execution_count": 21,
   "metadata": {
    "collapsed": true
   },
   "outputs": [
    {
     "data": {
      "text/plain": [
       "<function __main__.<lambda>(arg1, arg2)>"
      ]
     },
     "execution_count": 21,
     "metadata": {},
     "output_type": "execute_result"
    }
   ],
   "source": [
    "lambda arg1, arg2 : arg1 + arg2"
   ]
  },
  {
   "cell_type": "code",
   "execution_count": 22,
   "metadata": {},
   "outputs": [],
   "source": [
    "addition2 = lambda arg1, arg2 : arg1 + arg2"
   ]
  },
  {
   "cell_type": "code",
   "execution_count": 23,
   "metadata": {
    "collapsed": true
   },
   "outputs": [
    {
     "data": {
      "text/plain": [
       "53"
      ]
     },
     "execution_count": 23,
     "metadata": {},
     "output_type": "execute_result"
    }
   ],
   "source": [
    "addition2(20,33)"
   ]
  },
  {
   "cell_type": "code",
   "execution_count": 24,
   "metadata": {},
   "outputs": [],
   "source": [
    "def test(x):\n",
    "    if x > 10 and x < 20:\n",
    "        return True\n",
    "    else:\n",
    "        return False"
   ]
  },
  {
   "cell_type": "code",
   "execution_count": 25,
   "metadata": {
    "collapsed": true
   },
   "outputs": [
    {
     "name": "stdout",
     "output_type": "stream",
     "text": [
      "False\n",
      "True\n"
     ]
    }
   ],
   "source": [
    "print(test(20))\n",
    "print(test(12))"
   ]
  },
  {
   "cell_type": "code",
   "execution_count": 26,
   "metadata": {},
   "outputs": [],
   "source": [
    "test2 = lambda x: True if(x > 10 and x < 20) else False"
   ]
  },
  {
   "cell_type": "code",
   "execution_count": 27,
   "metadata": {
    "collapsed": true
   },
   "outputs": [
    {
     "data": {
      "text/plain": [
       "False"
      ]
     },
     "execution_count": 27,
     "metadata": {},
     "output_type": "execute_result"
    }
   ],
   "source": [
    "test2(25)"
   ]
  },
  {
   "cell_type": "markdown",
   "metadata": {},
   "source": [
    "- Take a value n\n",
    "    - if n is less than 10, return n * 10\n",
    "    - if n is between 11 and 60, return n * 30\n",
    "    - else return n"
   ]
  },
  {
   "cell_type": "code",
   "execution_count": 28,
   "metadata": {},
   "outputs": [],
   "source": [
    "def Value(n):\n",
    "    if n<10:\n",
    "        return n * 10\n",
    "    elif n>11 and n<60:\n",
    "        return n * 30\n",
    "    else:\n",
    "        return n"
   ]
  },
  {
   "cell_type": "code",
   "execution_count": 29,
   "metadata": {
    "collapsed": true
   },
   "outputs": [
    {
     "name": "stdout",
     "output_type": "stream",
     "text": [
      "787\n",
      "1650\n"
     ]
    }
   ],
   "source": [
    "print(Value(787))\n",
    "print(Value(55))"
   ]
  },
  {
   "cell_type": "code",
   "execution_count": 30,
   "metadata": {},
   "outputs": [],
   "source": [
    "Value2 = lambda n : n * 10 if n<10 else n * 30 if n>11 and n<60 else n"
   ]
  },
  {
   "cell_type": "code",
   "execution_count": 31,
   "metadata": {
    "collapsed": true
   },
   "outputs": [
    {
     "name": "stdout",
     "output_type": "stream",
     "text": [
      "90\n",
      "30\n"
     ]
    }
   ],
   "source": [
    "print(Value2(90))\n",
    "print(Value2(3))"
   ]
  },
  {
   "cell_type": "markdown",
   "metadata": {},
   "source": [
    "**map()**\n",
    "- map will take function as an argument\n",
    "- Syntax: map(function, no.of.iterables)"
   ]
  },
  {
   "cell_type": "code",
   "execution_count": 34,
   "metadata": {},
   "outputs": [],
   "source": [
    "def addition3(arg1):\n",
    "    return arg1 + arg1"
   ]
  },
  {
   "cell_type": "code",
   "execution_count": 36,
   "metadata": {
    "collapsed": true
   },
   "outputs": [
    {
     "data": {
      "text/plain": [
       "540"
      ]
     },
     "execution_count": 36,
     "metadata": {},
     "output_type": "execute_result"
    }
   ],
   "source": [
    "addition3(270)"
   ]
  },
  {
   "cell_type": "code",
   "execution_count": 2,
   "metadata": {
    "collapsed": true
   },
   "outputs": [
    {
     "name": "stdout",
     "output_type": "stream",
     "text": [
      "4\n",
      "110\n",
      "18\n",
      "174\n"
     ]
    }
   ],
   "source": [
    "def addition4(arg1):\n",
    "    return arg1 + arg1\n",
    "\n",
    "for i in [2,55,9,87]:\n",
    "    print(addition4(i))"
   ]
  },
  {
   "cell_type": "code",
   "execution_count": 4,
   "metadata": {
    "collapsed": true
   },
   "outputs": [
    {
     "data": {
      "text/plain": [
       "[4, 110, 18, 174]"
      ]
     },
     "execution_count": 4,
     "metadata": {},
     "output_type": "execute_result"
    }
   ],
   "source": [
    "list(map(addition4, [2,55,9,87]))"
   ]
  },
  {
   "cell_type": "code",
   "execution_count": 16,
   "metadata": {},
   "outputs": [],
   "source": [
    "# list2 = ['Mounika', 'Niharika', 'Ram', 'abcka']\n",
    "# for i in list2:\n",
    "#     list3 = list(map(i.endswith,  list2))\n",
    "# #list(map(str))"
   ]
  },
  {
   "cell_type": "code",
   "execution_count": null,
   "metadata": {},
   "outputs": [],
   "source": []
  },
  {
   "cell_type": "code",
   "execution_count": 18,
   "metadata": {},
   "outputs": [],
   "source": [
    "# 'Apssdc'.endswith('dc')"
   ]
  },
  {
   "cell_type": "code",
   "execution_count": 19,
   "metadata": {
    "collapsed": true
   },
   "outputs": [
    {
     "data": {
      "text/plain": [
       "['MOUNIKA', 'NIHARIKA', 'RAM', 'ABCKA']"
      ]
     },
     "execution_count": 19,
     "metadata": {},
     "output_type": "execute_result"
    }
   ],
   "source": [
    "list2 = ['Mounika', 'Niharika', 'Ram', 'abcka']\n",
    "list(map(str.upper,list2))"
   ]
  },
  {
   "cell_type": "code",
   "execution_count": 26,
   "metadata": {
    "collapsed": true
   },
   "outputs": [
    {
     "data": {
      "text/plain": [
       "[True,\n",
       " False,\n",
       " True,\n",
       " False,\n",
       " True,\n",
       " False,\n",
       " True,\n",
       " False,\n",
       " True,\n",
       " False,\n",
       " True,\n",
       " False,\n",
       " True,\n",
       " False,\n",
       " True,\n",
       " False,\n",
       " True,\n",
       " False,\n",
       " True,\n",
       " False]"
      ]
     },
     "execution_count": 26,
     "metadata": {},
     "output_type": "execute_result"
    }
   ],
   "source": [
    "# Without using keywords\n",
    "list(map(lambda x : (x%2==0) ,range(50,70)))"
   ]
  },
  {
   "cell_type": "code",
   "execution_count": 28,
   "metadata": {
    "collapsed": true
   },
   "outputs": [
    {
     "data": {
      "text/plain": [
       "[True,\n",
       " False,\n",
       " True,\n",
       " False,\n",
       " True,\n",
       " False,\n",
       " True,\n",
       " False,\n",
       " True,\n",
       " False,\n",
       " True,\n",
       " False,\n",
       " True,\n",
       " False,\n",
       " True,\n",
       " False,\n",
       " True,\n",
       " False,\n",
       " True,\n",
       " False]"
      ]
     },
     "execution_count": 28,
     "metadata": {},
     "output_type": "execute_result"
    }
   ],
   "source": [
    "# Using keywords\n",
    "list(map(lambda x : True if(x%2==0) else False, range(50,70)))"
   ]
  },
  {
   "cell_type": "code",
   "execution_count": 29,
   "metadata": {},
   "outputs": [
    {
     "ename": "SyntaxError",
     "evalue": "invalid syntax (<ipython-input-29-1a3701f4c25f>, line 1)",
     "output_type": "error",
     "traceback": [
      "\u001b[1;36m  File \u001b[1;32m\"<ipython-input-29-1a3701f4c25f>\"\u001b[1;36m, line \u001b[1;32m1\u001b[0m\n\u001b[1;33m    list(map(lambda x : x if(x%2==0), range(50,70)))\u001b[0m\n\u001b[1;37m                                    ^\u001b[0m\n\u001b[1;31mSyntaxError\u001b[0m\u001b[1;31m:\u001b[0m invalid syntax\n"
     ]
    }
   ],
   "source": [
    "list(map(lambda x : x if(x%2==0), range(50,70)))"
   ]
  },
  {
   "cell_type": "markdown",
   "metadata": {},
   "source": [
    "**filter()**\n",
    "- Syntax: filter(function, no.of iterables)"
   ]
  },
  {
   "cell_type": "code",
   "execution_count": 31,
   "metadata": {},
   "outputs": [
    {
     "data": {
      "text/plain": [
       "[50, 52, 54, 56, 58, 60, 62, 64, 66, 68]"
      ]
     },
     "execution_count": 31,
     "metadata": {},
     "output_type": "execute_result"
    }
   ],
   "source": [
    "list(filter(lambda x : (x%2==0), range(50,70)))"
   ]
  },
  {
   "cell_type": "markdown",
   "metadata": {},
   "source": [
    "### Object Oriented Programming\n",
    "- Class\n",
    "- Object\n",
    "- Constructor\n",
    "- Inheritance"
   ]
  },
  {
   "cell_type": "markdown",
   "metadata": {},
   "source": [
    "**Class**\n",
    "- Class is a template or blueprint of object\n",
    "- We can create no.of object using one class"
   ]
  },
  {
   "cell_type": "code",
   "execution_count": 32,
   "metadata": {},
   "outputs": [],
   "source": [
    "# Syntax:\n",
    "\n",
    "# class Class_Name:\n",
    "#       def Method_Name():\n",
    "#              body of method\n",
    "#Class_Name()"
   ]
  },
  {
   "cell_type": "code",
   "execution_count": 35,
   "metadata": {
    "collapsed": true
   },
   "outputs": [
    {
     "name": "stdout",
     "output_type": "stream",
     "text": [
      "<class 'int'>\n"
     ]
    }
   ],
   "source": [
    "n = 1000  # n is an object of int\n",
    "print(type(n))# int is a class"
   ]
  },
  {
   "cell_type": "code",
   "execution_count": 36,
   "metadata": {
    "collapsed": true
   },
   "outputs": [
    {
     "name": "stdout",
     "output_type": "stream",
     "text": [
      "<class 'float'>\n"
     ]
    }
   ],
   "source": [
    "n2 = 1000.9\n",
    "print(type(n2))"
   ]
  },
  {
   "cell_type": "code",
   "execution_count": 37,
   "metadata": {},
   "outputs": [],
   "source": [
    "class Class_EEE:\n",
    "    number = 1000.9\n",
    "    string = 'EEE Batch 2'"
   ]
  },
  {
   "cell_type": "code",
   "execution_count": 38,
   "metadata": {
    "collapsed": true
   },
   "outputs": [
    {
     "ename": "NameError",
     "evalue": "name 'number' is not defined",
     "output_type": "error",
     "traceback": [
      "\u001b[1;31m---------------------------------------------------------------------------\u001b[0m",
      "\u001b[1;31mNameError\u001b[0m                                 Traceback (most recent call last)",
      "\u001b[1;32m<ipython-input-38-d1ac3c3a168f>\u001b[0m in \u001b[0;36m<module>\u001b[1;34m\u001b[0m\n\u001b[1;32m----> 1\u001b[1;33m \u001b[0mnumber\u001b[0m\u001b[1;33m\u001b[0m\u001b[1;33m\u001b[0m\u001b[0m\n\u001b[0m",
      "\u001b[1;31mNameError\u001b[0m: name 'number' is not defined"
     ]
    }
   ],
   "source": [
    "number# Error"
   ]
  },
  {
   "cell_type": "code",
   "execution_count": 39,
   "metadata": {},
   "outputs": [
    {
     "data": {
      "text/plain": [
       "1000.9"
      ]
     },
     "execution_count": 39,
     "metadata": {},
     "output_type": "execute_result"
    }
   ],
   "source": [
    "Class_EEE.number"
   ]
  },
  {
   "cell_type": "code",
   "execution_count": 41,
   "metadata": {},
   "outputs": [],
   "source": [
    "class function_Class: # Name of Class\n",
    "    def letters(): # method\n",
    "        print('HELLO')"
   ]
  },
  {
   "cell_type": "code",
   "execution_count": 43,
   "metadata": {
    "collapsed": true
   },
   "outputs": [
    {
     "name": "stdout",
     "output_type": "stream",
     "text": [
      "HELLO\n"
     ]
    }
   ],
   "source": [
    "function_Class.letters()"
   ]
  },
  {
   "cell_type": "markdown",
   "metadata": {},
   "source": [
    "**Object**\n",
    "- Object is an instance of class."
   ]
  },
  {
   "cell_type": "code",
   "execution_count": 44,
   "metadata": {},
   "outputs": [],
   "source": [
    "class function_Class2: # Name of Class\n",
    "    def letters(self): # method\n",
    "        print('HELLO EEE')"
   ]
  },
  {
   "cell_type": "code",
   "execution_count": 45,
   "metadata": {
    "collapsed": true
   },
   "outputs": [
    {
     "data": {
      "text/plain": [
       "<__main__.function_Class2 at 0x18388a24f28>"
      ]
     },
     "execution_count": 45,
     "metadata": {},
     "output_type": "execute_result"
    }
   ],
   "source": [
    "# Creating Object\n",
    "obj1 = function_Class2()\n",
    "obj1"
   ]
  },
  {
   "cell_type": "code",
   "execution_count": 46,
   "metadata": {
    "collapsed": true
   },
   "outputs": [
    {
     "name": "stdout",
     "output_type": "stream",
     "text": [
      "HELLO EEE\n"
     ]
    }
   ],
   "source": [
    "obj1.letters()"
   ]
  },
  {
   "cell_type": "markdown",
   "metadata": {},
   "source": [
    "**Constructor**\n",
    "- Constructor is a method( or function) used for instanting an object of class\n",
    "- Synatx:\n",
    "    - __ init __(self)\n",
    "- Types\n",
    "    - Non-parameterized constructor\n",
    "    - Parameterized constructor"
   ]
  },
  {
   "cell_type": "code",
   "execution_count": 48,
   "metadata": {
    "collapsed": true
   },
   "outputs": [
    {
     "name": "stdout",
     "output_type": "stream",
     "text": [
      "['__abs__', '__add__', '__bool__', '__class__', '__delattr__', '__dir__', '__divmod__', '__doc__', '__eq__', '__float__', '__floordiv__', '__format__', '__ge__', '__getattribute__', '__getformat__', '__getnewargs__', '__gt__', '__hash__', '__init__', '__init_subclass__', '__int__', '__le__', '__lt__', '__mod__', '__mul__', '__ne__', '__neg__', '__new__', '__pos__', '__pow__', '__radd__', '__rdivmod__', '__reduce__', '__reduce_ex__', '__repr__', '__rfloordiv__', '__rmod__', '__rmul__', '__round__', '__rpow__', '__rsub__', '__rtruediv__', '__set_format__', '__setattr__', '__sizeof__', '__str__', '__sub__', '__subclasshook__', '__truediv__', '__trunc__', 'as_integer_ratio', 'conjugate', 'fromhex', 'hex', 'imag', 'is_integer', 'real']\n"
     ]
    }
   ],
   "source": [
    "print(dir(float))"
   ]
  },
  {
   "cell_type": "code",
   "execution_count": 49,
   "metadata": {},
   "outputs": [],
   "source": [
    "class constructor_Class:\n",
    "    def __init__(self):\n",
    "        print('This is constructor')"
   ]
  },
  {
   "cell_type": "code",
   "execution_count": 50,
   "metadata": {
    "collapsed": true
   },
   "outputs": [
    {
     "name": "stdout",
     "output_type": "stream",
     "text": [
      "This is constructor\n"
     ]
    },
    {
     "data": {
      "text/plain": [
       "<__main__.constructor_Class at 0x18388a4e710>"
      ]
     },
     "execution_count": 50,
     "metadata": {},
     "output_type": "execute_result"
    }
   ],
   "source": [
    "constructor_Class()"
   ]
  },
  {
   "cell_type": "code",
   "execution_count": 56,
   "metadata": {},
   "outputs": [],
   "source": [
    "# Parameterized constructor\n",
    "class constructor_Class2:\n",
    "    def __init__(self, a, b):\n",
    "        print('This is constructor')\n",
    "        self.a = a\n",
    "        self.b = b\n",
    "    def multi(self):\n",
    "        print(self.a + self.b)"
   ]
  },
  {
   "cell_type": "code",
   "execution_count": 61,
   "metadata": {
    "collapsed": true
   },
   "outputs": [
    {
     "name": "stdout",
     "output_type": "stream",
     "text": [
      "This is constructor\n",
      "30\n"
     ]
    }
   ],
   "source": [
    "obj3 = constructor_Class2(10,20)\n",
    "obj3.multi()"
   ]
  },
  {
   "cell_type": "markdown",
   "metadata": {},
   "source": [
    "**Inheritance**\n",
    "-  Inherit means recive something\n",
    "- Inheritance is defined as a class that inherits all the methods and variables to another class"
   ]
  },
  {
   "cell_type": "code",
   "execution_count": 62,
   "metadata": {},
   "outputs": [],
   "source": [
    "# Syntax:\n",
    "\n",
    "\n",
    "# class Parent:\n",
    "#     body of Parent Class\n",
    "\n",
    "# class Child(Parent):\n",
    "#   body of Child Class"
   ]
  },
  {
   "cell_type": "code",
   "execution_count": 67,
   "metadata": {},
   "outputs": [],
   "source": [
    "class Super_Class:\n",
    "    def method1(self):\n",
    "        print('This is Parents Property')\n",
    "class Child_Class(Super_Class):\n",
    "    def method2(self):\n",
    "        print(' This is Derived class')"
   ]
  },
  {
   "cell_type": "code",
   "execution_count": 68,
   "metadata": {
    "collapsed": true
   },
   "outputs": [
    {
     "name": "stdout",
     "output_type": "stream",
     "text": [
      " This is Derived class\n"
     ]
    }
   ],
   "source": [
    "object1 = Child_Class()\n",
    "object1.method2()"
   ]
  },
  {
   "cell_type": "code",
   "execution_count": 69,
   "metadata": {
    "collapsed": true
   },
   "outputs": [
    {
     "name": "stdout",
     "output_type": "stream",
     "text": [
      "This is Parents Property\n"
     ]
    }
   ],
   "source": [
    "object1.method1()"
   ]
  },
  {
   "cell_type": "markdown",
   "metadata": {},
   "source": [
    "### Sets\n",
    "- Sets are unordered and unindexed\n",
    "- Sets are mutable\n",
    "- { } \n",
    "- set()"
   ]
  },
  {
   "cell_type": "code",
   "execution_count": 70,
   "metadata": {},
   "outputs": [
    {
     "data": {
      "text/plain": [
       "{7.9, 999, 'a', 'l', 'z'}"
      ]
     },
     "execution_count": 70,
     "metadata": {},
     "output_type": "execute_result"
    }
   ],
   "source": [
    "set1 = {999,'a',7.9,'z', 'l'}\n",
    "set1"
   ]
  },
  {
   "cell_type": "code",
   "execution_count": 71,
   "metadata": {
    "collapsed": true
   },
   "outputs": [
    {
     "ename": "TypeError",
     "evalue": "'set' object is not subscriptable",
     "output_type": "error",
     "traceback": [
      "\u001b[1;31m---------------------------------------------------------------------------\u001b[0m",
      "\u001b[1;31mTypeError\u001b[0m                                 Traceback (most recent call last)",
      "\u001b[1;32m<ipython-input-71-c38563f1af7a>\u001b[0m in \u001b[0;36m<module>\u001b[1;34m\u001b[0m\n\u001b[1;32m----> 1\u001b[1;33m \u001b[0mset1\u001b[0m\u001b[1;33m[\u001b[0m\u001b[1;36m0\u001b[0m\u001b[1;33m]\u001b[0m\u001b[1;33m\u001b[0m\u001b[1;33m\u001b[0m\u001b[0m\n\u001b[0m",
      "\u001b[1;31mTypeError\u001b[0m: 'set' object is not subscriptable"
     ]
    }
   ],
   "source": [
    "set1[0] # UnIndexed"
   ]
  },
  {
   "cell_type": "code",
   "execution_count": 72,
   "metadata": {
    "collapsed": true
   },
   "outputs": [
    {
     "name": "stdout",
     "output_type": "stream",
     "text": [
      "['__and__', '__class__', '__contains__', '__delattr__', '__dir__', '__doc__', '__eq__', '__format__', '__ge__', '__getattribute__', '__gt__', '__hash__', '__iand__', '__init__', '__init_subclass__', '__ior__', '__isub__', '__iter__', '__ixor__', '__le__', '__len__', '__lt__', '__ne__', '__new__', '__or__', '__rand__', '__reduce__', '__reduce_ex__', '__repr__', '__ror__', '__rsub__', '__rxor__', '__setattr__', '__sizeof__', '__str__', '__sub__', '__subclasshook__', '__xor__', 'add', 'clear', 'copy', 'difference', 'difference_update', 'discard', 'intersection', 'intersection_update', 'isdisjoint', 'issubset', 'issuperset', 'pop', 'remove', 'symmetric_difference', 'symmetric_difference_update', 'union', 'update']\n"
     ]
    }
   ],
   "source": [
    "print(dir(set))"
   ]
  },
  {
   "cell_type": "code",
   "execution_count": 73,
   "metadata": {},
   "outputs": [
    {
     "data": {
      "text/plain": [
       "{2020, 'LUDO', 'Sohail'}"
      ]
     },
     "execution_count": 73,
     "metadata": {},
     "output_type": "execute_result"
    }
   ],
   "source": [
    "set2 = {'LUDO',2020, 'PubG', 2021, 'Sohail', 90}\n",
    "set3 = {'Candy', 2021, 90, 91,'PubG'}\n",
    "\n",
    "set2.difference(set3)"
   ]
  },
  {
   "cell_type": "code",
   "execution_count": 74,
   "metadata": {},
   "outputs": [
    {
     "data": {
      "text/plain": [
       "{2020, 2021, 90, 'LUDO', 'PubG', 'Sohail'}"
      ]
     },
     "execution_count": 74,
     "metadata": {},
     "output_type": "execute_result"
    }
   ],
   "source": [
    "set2"
   ]
  },
  {
   "cell_type": "code",
   "execution_count": 75,
   "metadata": {},
   "outputs": [],
   "source": [
    "set2.difference_update(set3)"
   ]
  },
  {
   "cell_type": "code",
   "execution_count": 76,
   "metadata": {
    "collapsed": true
   },
   "outputs": [
    {
     "data": {
      "text/plain": [
       "{2020, 'LUDO', 'Sohail'}"
      ]
     },
     "execution_count": 76,
     "metadata": {},
     "output_type": "execute_result"
    }
   ],
   "source": [
    "set2"
   ]
  },
  {
   "cell_type": "code",
   "execution_count": 78,
   "metadata": {
    "collapsed": true
   },
   "outputs": [
    {
     "data": {
      "text/plain": [
       "{'PVPSIT', 'VRS'}"
      ]
     },
     "execution_count": 78,
     "metadata": {},
     "output_type": "execute_result"
    }
   ],
   "source": [
    "set4 = {'PVPSIT', 'IIT','VVIT','VRS'}\n",
    "set5 = {'PVPSIT','VRS'}\n",
    "\n",
    "set4.intersection(set5)"
   ]
  },
  {
   "cell_type": "code",
   "execution_count": 79,
   "metadata": {
    "collapsed": true
   },
   "outputs": [
    {
     "data": {
      "text/plain": [
       "{'IIT', 'PVPSIT', 'VRS', 'VVIT'}"
      ]
     },
     "execution_count": 79,
     "metadata": {},
     "output_type": "execute_result"
    }
   ],
   "source": [
    "set4"
   ]
  },
  {
   "cell_type": "code",
   "execution_count": 83,
   "metadata": {},
   "outputs": [
    {
     "name": "stdout",
     "output_type": "stream",
     "text": [
      "Help on built-in function isdisjoint:\n",
      "\n",
      "isdisjoint(...) method of builtins.set instance\n",
      "    Return True if two sets have a null intersection.\n",
      "\n"
     ]
    }
   ],
   "source": [
    "help(set4.isdisjoint)"
   ]
  },
  {
   "cell_type": "code",
   "execution_count": null,
   "metadata": {},
   "outputs": [],
   "source": []
  }
 ],
 "metadata": {
  "kernelspec": {
   "display_name": "Python 3",
   "language": "python",
   "name": "python3"
  },
  "language_info": {
   "codemirror_mode": {
    "name": "ipython",
    "version": 3
   },
   "file_extension": ".py",
   "mimetype": "text/x-python",
   "name": "python",
   "nbconvert_exporter": "python",
   "pygments_lexer": "ipython3",
   "version": "3.7.3"
  }
 },
 "nbformat": 4,
 "nbformat_minor": 2
}
