{
 "cells": [
  {
   "cell_type": "markdown",
   "metadata": {},
   "source": [
    "**Tuple**\n",
    "- Tuples are immutable\n",
    "- represented as ( ) "
   ]
  },
  {
   "cell_type": "code",
   "execution_count": 1,
   "metadata": {
    "collapsed": true
   },
   "outputs": [
    {
     "data": {
      "text/plain": [
       "()"
      ]
     },
     "execution_count": 1,
     "metadata": {},
     "output_type": "execute_result"
    }
   ],
   "source": [
    "# Creating tuple\n",
    "tuple1 = tuple() #Empty tuple\n",
    "tuple1"
   ]
  },
  {
   "cell_type": "code",
   "execution_count": 2,
   "metadata": {
    "collapsed": true
   },
   "outputs": [
    {
     "data": {
      "text/plain": [
       "()"
      ]
     },
     "execution_count": 2,
     "metadata": {},
     "output_type": "execute_result"
    }
   ],
   "source": [
    "tuple2 = ()#Empty tuple\n",
    "tuple2"
   ]
  },
  {
   "cell_type": "code",
   "execution_count": 3,
   "metadata": {
    "collapsed": true
   },
   "outputs": [
    {
     "data": {
      "text/plain": [
       "int"
      ]
     },
     "execution_count": 3,
     "metadata": {},
     "output_type": "execute_result"
    }
   ],
   "source": [
    "tuple3 = (10)\n",
    "type(tuple3)"
   ]
  },
  {
   "cell_type": "code",
   "execution_count": 4,
   "metadata": {
    "collapsed": true
   },
   "outputs": [
    {
     "data": {
      "text/plain": [
       "tuple"
      ]
     },
     "execution_count": 4,
     "metadata": {},
     "output_type": "execute_result"
    }
   ],
   "source": [
    "tuple4 = (10,)\n",
    "type(tuple4)"
   ]
  },
  {
   "cell_type": "code",
   "execution_count": 5,
   "metadata": {},
   "outputs": [],
   "source": [
    "tuple5 = (27,89.666,'laptop',True, False)\n",
    "# Indexing and slicing is similar to List"
   ]
  },
  {
   "cell_type": "code",
   "execution_count": 7,
   "metadata": {
    "collapsed": true
   },
   "outputs": [
    {
     "data": {
      "text/plain": [
       "27"
      ]
     },
     "execution_count": 7,
     "metadata": {},
     "output_type": "execute_result"
    }
   ],
   "source": [
    "tuple5[0]"
   ]
  },
  {
   "cell_type": "code",
   "execution_count": 8,
   "metadata": {
    "collapsed": true
   },
   "outputs": [
    {
     "ename": "TypeError",
     "evalue": "'tuple' object does not support item assignment",
     "output_type": "error",
     "traceback": [
      "\u001b[1;31m---------------------------------------------------------------------------\u001b[0m",
      "\u001b[1;31mTypeError\u001b[0m                                 Traceback (most recent call last)",
      "\u001b[1;32m<ipython-input-8-2c28cc8e0ab2>\u001b[0m in \u001b[0;36m<module>\u001b[1;34m\u001b[0m\n\u001b[1;32m----> 1\u001b[1;33m \u001b[0mtuple5\u001b[0m\u001b[1;33m[\u001b[0m\u001b[1;36m2\u001b[0m\u001b[1;33m]\u001b[0m \u001b[1;33m=\u001b[0m \u001b[1;36m999\u001b[0m\u001b[1;33m\u001b[0m\u001b[1;33m\u001b[0m\u001b[0m\n\u001b[0m",
      "\u001b[1;31mTypeError\u001b[0m: 'tuple' object does not support item assignment"
     ]
    }
   ],
   "source": [
    "tuple5[2] = 999 \n",
    "# Error: because tuples are immutable"
   ]
  },
  {
   "cell_type": "code",
   "execution_count": 10,
   "metadata": {
    "collapsed": true
   },
   "outputs": [
    {
     "name": "stdout",
     "output_type": "stream",
     "text": [
      "['__add__', '__class__', '__contains__', '__delattr__', '__dir__', '__doc__', '__eq__', '__format__', '__ge__', '__getattribute__', '__getitem__', '__getnewargs__', '__gt__', '__hash__', '__init__', '__init_subclass__', '__iter__', '__le__', '__len__', '__lt__', '__mul__', '__ne__', '__new__', '__reduce__', '__reduce_ex__', '__repr__', '__rmul__', '__setattr__', '__sizeof__', '__str__', '__subclasshook__', 'count', 'index']\n"
     ]
    }
   ],
   "source": [
    "print(dir(tuple))"
   ]
  },
  {
   "cell_type": "markdown",
   "metadata": {},
   "source": [
    "**Dictionaries**\n",
    "- Pair of keys and values which is seperated with ':'\n",
    "- Keys are act as index of values in dictionary\n",
    "- represented as { }\n",
    "- dictionaries are mutable"
   ]
  },
  {
   "cell_type": "code",
   "execution_count": 11,
   "metadata": {},
   "outputs": [],
   "source": [
    "# Create a dictionary\n",
    "dict1 = dict()# Empty dictionary\n",
    "dict2 = {}"
   ]
  },
  {
   "cell_type": "code",
   "execution_count": 17,
   "metadata": {},
   "outputs": [
    {
     "data": {
      "text/plain": [
       "{'key1': 100, 2: 200, 'Key3': 'Three'}"
      ]
     },
     "execution_count": 17,
     "metadata": {},
     "output_type": "execute_result"
    }
   ],
   "source": [
    "dict3 = {'key1':100, 2:200, 'Key3':'Three'}\n",
    "dict3"
   ]
  },
  {
   "cell_type": "code",
   "execution_count": 13,
   "metadata": {
    "collapsed": true
   },
   "outputs": [
    {
     "data": {
      "text/plain": [
       "{'k1': 2000, 'k3': 2000}"
      ]
     },
     "execution_count": 13,
     "metadata": {},
     "output_type": "execute_result"
    }
   ],
   "source": [
    "## Keys should be unique.\n",
    "dict4 = {'k1':20.22,'k1':2000,'k3':2000}\n",
    "dict4"
   ]
  },
  {
   "cell_type": "code",
   "execution_count": 19,
   "metadata": {
    "collapsed": true
   },
   "outputs": [
    {
     "data": {
      "text/plain": [
       "'Three'"
      ]
     },
     "execution_count": 19,
     "metadata": {},
     "output_type": "execute_result"
    }
   ],
   "source": [
    "# Access values\n",
    "dict3['Key3']"
   ]
  },
  {
   "cell_type": "code",
   "execution_count": 20,
   "metadata": {
    "collapsed": true
   },
   "outputs": [
    {
     "data": {
      "text/plain": [
       "{'key1': 100, 2: 200, 'Key3': 'Three'}"
      ]
     },
     "execution_count": 20,
     "metadata": {},
     "output_type": "execute_result"
    }
   ],
   "source": [
    "dict3"
   ]
  },
  {
   "cell_type": "code",
   "execution_count": 21,
   "metadata": {
    "collapsed": true
   },
   "outputs": [
    {
     "data": {
      "text/plain": [
       "{'key1': 100, 2: 200, 'Key3': 3}"
      ]
     },
     "execution_count": 21,
     "metadata": {},
     "output_type": "execute_result"
    }
   ],
   "source": [
    "#To change a value\n",
    "dict3['Key3'] = 3\n",
    "dict3"
   ]
  },
  {
   "cell_type": "code",
   "execution_count": 22,
   "metadata": {
    "collapsed": true
   },
   "outputs": [
    {
     "data": {
      "text/plain": [
       "{'key1': 100, 2: 200, 'Key3': 3, 'laptop': 'Dell'}"
      ]
     },
     "execution_count": 22,
     "metadata": {},
     "output_type": "execute_result"
    }
   ],
   "source": [
    "# Add one item\n",
    "dict3['laptop'] = 'Dell'\n",
    "dict3"
   ]
  },
  {
   "cell_type": "code",
   "execution_count": 23,
   "metadata": {
    "collapsed": true
   },
   "outputs": [
    {
     "name": "stdout",
     "output_type": "stream",
     "text": [
      "['__class__', '__contains__', '__delattr__', '__delitem__', '__dir__', '__doc__', '__eq__', '__format__', '__ge__', '__getattribute__', '__getitem__', '__gt__', '__hash__', '__init__', '__init_subclass__', '__iter__', '__le__', '__len__', '__lt__', '__ne__', '__new__', '__reduce__', '__reduce_ex__', '__repr__', '__setattr__', '__setitem__', '__sizeof__', '__str__', '__subclasshook__', 'clear', 'copy', 'fromkeys', 'get', 'items', 'keys', 'pop', 'popitem', 'setdefault', 'update', 'values']\n"
     ]
    }
   ],
   "source": [
    "print(dir(dict))"
   ]
  },
  {
   "cell_type": "code",
   "execution_count": 24,
   "metadata": {
    "collapsed": true
   },
   "outputs": [
    {
     "data": {
      "text/plain": [
       "dict_values([100, 200, 3, 'Dell'])"
      ]
     },
     "execution_count": 24,
     "metadata": {},
     "output_type": "execute_result"
    }
   ],
   "source": [
    "# to get all values\n",
    "dict3.values()"
   ]
  },
  {
   "cell_type": "code",
   "execution_count": 25,
   "metadata": {
    "collapsed": true
   },
   "outputs": [
    {
     "data": {
      "text/plain": [
       "dict_keys(['key1', 2, 'Key3', 'laptop'])"
      ]
     },
     "execution_count": 25,
     "metadata": {},
     "output_type": "execute_result"
    }
   ],
   "source": [
    "dict3.keys()# to get keys"
   ]
  },
  {
   "cell_type": "code",
   "execution_count": 26,
   "metadata": {
    "collapsed": true
   },
   "outputs": [
    {
     "data": {
      "text/plain": [
       "dict_items([('key1', 100), (2, 200), ('Key3', 3), ('laptop', 'Dell')])"
      ]
     },
     "execution_count": 26,
     "metadata": {},
     "output_type": "execute_result"
    }
   ],
   "source": [
    "dict3.items()# tuple of keys, values"
   ]
  },
  {
   "cell_type": "code",
   "execution_count": 27,
   "metadata": {
    "collapsed": true
   },
   "outputs": [
    {
     "name": "stdout",
     "output_type": "stream",
     "text": [
      "100\n",
      "200\n",
      "3\n",
      "Dell\n"
     ]
    }
   ],
   "source": [
    "for i in dict3.values():\n",
    "    print(i) # to print value by value"
   ]
  },
  {
   "cell_type": "code",
   "execution_count": 28,
   "metadata": {},
   "outputs": [
    {
     "data": {
      "text/plain": [
       "{'student1': 'Phani', 'Student2': 'harikrisha', 'student3': 'santosh'}"
      ]
     },
     "execution_count": 28,
     "metadata": {},
     "output_type": "execute_result"
    }
   ],
   "source": [
    "dict4 = {'student1':'Phani',\n",
    "         'Student2':'harikrisha', \n",
    "         'student3':'santosh'}\n",
    "dict4"
   ]
  },
  {
   "cell_type": "code",
   "execution_count": 30,
   "metadata": {
    "collapsed": true
   },
   "outputs": [
    {
     "data": {
      "text/plain": [
       "{'student1': 'Phani', 'branch1': 'eee', 'college': 'PVPSIT'}"
      ]
     },
     "execution_count": 30,
     "metadata": {},
     "output_type": "execute_result"
    }
   ],
   "source": [
    "dict5 = {'student1':'Phani',\n",
    "         'branch1':'eee',\n",
    "         'college':'PVPSIT'}\n",
    "dict5"
   ]
  },
  {
   "cell_type": "code",
   "execution_count": 31,
   "metadata": {},
   "outputs": [],
   "source": [
    "# to add items\n",
    "dict4.update(dict5)"
   ]
  },
  {
   "cell_type": "code",
   "execution_count": 32,
   "metadata": {
    "collapsed": true
   },
   "outputs": [
    {
     "data": {
      "text/plain": [
       "{'student1': 'Phani',\n",
       " 'Student2': 'harikrisha',\n",
       " 'student3': 'santosh',\n",
       " 'branch1': 'eee',\n",
       " 'college': 'PVPSIT'}"
      ]
     },
     "execution_count": 32,
     "metadata": {},
     "output_type": "execute_result"
    }
   ],
   "source": [
    "dict4"
   ]
  },
  {
   "cell_type": "code",
   "execution_count": 33,
   "metadata": {},
   "outputs": [],
   "source": [
    "dict4.update({'city':'vijayawada'})"
   ]
  },
  {
   "cell_type": "code",
   "execution_count": 34,
   "metadata": {},
   "outputs": [
    {
     "data": {
      "text/plain": [
       "{'student1': 'Phani',\n",
       " 'Student2': 'harikrisha',\n",
       " 'student3': 'santosh',\n",
       " 'branch1': 'eee',\n",
       " 'college': 'PVPSIT',\n",
       " 'city': 'vijayawada'}"
      ]
     },
     "execution_count": 34,
     "metadata": {},
     "output_type": "execute_result"
    }
   ],
   "source": [
    "dict4"
   ]
  },
  {
   "cell_type": "code",
   "execution_count": 35,
   "metadata": {
    "collapsed": true
   },
   "outputs": [
    {
     "data": {
      "text/plain": [
       "'santosh'"
      ]
     },
     "execution_count": 35,
     "metadata": {},
     "output_type": "execute_result"
    }
   ],
   "source": [
    "# to delete items use pop() and popitem()\n",
    "dict4.pop('student3')"
   ]
  },
  {
   "cell_type": "code",
   "execution_count": 36,
   "metadata": {
    "collapsed": true
   },
   "outputs": [
    {
     "data": {
      "text/plain": [
       "{'student1': 'Phani',\n",
       " 'Student2': 'harikrisha',\n",
       " 'branch1': 'eee',\n",
       " 'college': 'PVPSIT',\n",
       " 'city': 'vijayawada'}"
      ]
     },
     "execution_count": 36,
     "metadata": {},
     "output_type": "execute_result"
    }
   ],
   "source": [
    "dict4"
   ]
  },
  {
   "cell_type": "markdown",
   "metadata": {},
   "source": [
    "- Write a program to save contact number in dictionary.\n",
    "    - if contact is not exist, add contact number\n",
    "    - else, print \"number already exist\""
   ]
  },
  {
   "cell_type": "code",
   "execution_count": 37,
   "metadata": {},
   "outputs": [],
   "source": [
    "## Eg:\n",
    "#### 'Mounika' 98765432109\n",
    "#### 'Swathi' 8765432109\n",
    "#### 'Swathi' 8765432109\n",
    "#### 'Swathi' already exist"
   ]
  },
  {
   "cell_type": "code",
   "execution_count": 38,
   "metadata": {},
   "outputs": [],
   "source": [
    "contact = {}\n",
    "\n",
    "def contactApp(name,number):\n",
    "    if name not in contact:\n",
    "        contact[name] = number\n",
    "        print('contact added')\n",
    "    else:\n",
    "        print('Name already exist')\n",
    "    return contact"
   ]
  },
  {
   "cell_type": "code",
   "execution_count": 39,
   "metadata": {
    "collapsed": true
   },
   "outputs": [
    {
     "name": "stdout",
     "output_type": "stream",
     "text": [
      "contact added\n"
     ]
    },
    {
     "data": {
      "text/plain": [
       "{'Mounika': 9876543210}"
      ]
     },
     "execution_count": 39,
     "metadata": {},
     "output_type": "execute_result"
    }
   ],
   "source": [
    "contactApp('Mounika',9876543210)"
   ]
  },
  {
   "cell_type": "code",
   "execution_count": 40,
   "metadata": {
    "collapsed": true
   },
   "outputs": [
    {
     "name": "stdout",
     "output_type": "stream",
     "text": [
      "contact added\n",
      "{'Mounika': 9876543210, 'Swathi': 876543210}\n",
      "contact added\n",
      "{'Mounika': 9876543210, 'Swathi': 876543210, 'Niharika': 876543210}\n",
      "Name already exist\n",
      "{'Mounika': 9876543210, 'Swathi': 876543210, 'Niharika': 876543210}\n"
     ]
    }
   ],
   "source": [
    "print(contactApp('Swathi',876543210))\n",
    "print(contactApp('Niharika',876543210))\n",
    "print(contactApp('Swathi',876543210))"
   ]
  },
  {
   "cell_type": "markdown",
   "metadata": {},
   "source": [
    "### Packages and Modules\n",
    "\n",
    "#### Modules\n",
    "- Module is python file which contains python coding.\n",
    "- Types\n",
    "    - Pre-defined module\n",
    "    - User-defined module\n",
    "- Syntax: import module_name\n",
    "    \n",
    "#### Package\n",
    "- collection of modules"
   ]
  },
  {
   "cell_type": "code",
   "execution_count": 1,
   "metadata": {
    "collapsed": true
   },
   "outputs": [
    {
     "name": "stdout",
     "output_type": "stream",
     "text": [
      "\n",
      "Please wait a moment while I gather a list of all available modules...\n",
      "\n"
     ]
    },
    {
     "name": "stderr",
     "output_type": "stream",
     "text": [
      "C:\\Users\\Mouni\\AppData\\Local\\Continuum\\anaconda3\\lib\\site-packages\\IPython\\kernel\\__init__.py:13: ShimWarning: The `IPython.kernel` package has been deprecated since IPython 4.0.You should import from ipykernel or jupyter_client instead.\n",
      "  \"You should import from ipykernel or jupyter_client instead.\", ShimWarning)\n",
      "WARNING: AstropyDeprecationWarning: astropy.utils.compat.futures is now deprecated - use concurrent.futures instead [astropy.utils.compat.futures]\n",
      "C:\\Users\\Mouni\\AppData\\Local\\Continuum\\anaconda3\\lib\\site-packages\\distributed\\utils.py:139: RuntimeWarning: Couldn't detect a suitable IP address for reaching '8.8.8.8', defaulting to '127.0.0.1': [WinError 10065] A socket operation was attempted to an unreachable host\n",
      "  RuntimeWarning,\n",
      "C:\\Users\\Mouni\\AppData\\Local\\Continuum\\anaconda3\\lib\\site-packages\\nltk\\twitter\\__init__.py:22: UserWarning: The twython library has not been installed. Some functionality from the twitter package will not be available.\n",
      "  \"The twython library has not been installed. \"\n"
     ]
    },
    {
     "name": "stdout",
     "output_type": "stream",
     "text": [
      "DEBUG:pip._internal.vcs.versioncontrol:Registered VCS backend: bzr\n",
      "DEBUG:pip._internal.vcs.versioncontrol:Registered VCS backend: git\n",
      "DEBUG:pip._internal.vcs.versioncontrol:Registered VCS backend: hg\n",
      "DEBUG:pip._internal.vcs.versioncontrol:Registered VCS backend: svn\n",
      "DEBUG:pyscreenshot:version=1.0\n"
     ]
    },
    {
     "name": "stderr",
     "output_type": "stream",
     "text": [
      "C:\\Users\\Mouni\\AppData\\Local\\Continuum\\anaconda3\\lib\\site-packages\\skimage\\novice\\__init__.py:103: UserWarning: The `skimage.novice` module was deprecated in version 0.14. It will be removed in 0.16.\n",
      "  warnings.warn(\"The `skimage.novice` module was deprecated in version 0.14. \"\n",
      "C:\\Users\\Mouni\\AppData\\Local\\Continuum\\anaconda3\\lib\\site-packages\\skimage\\viewer\\utils\\core.py:10: UserWarning: Recommended matplotlib backend is `Agg` for full skimage.viewer functionality.\n",
      "  warn(\"Recommended matplotlib backend is `Agg` for full \"\n",
      "C:\\Users\\Mouni\\AppData\\Local\\Continuum\\anaconda3\\lib\\site-packages\\sklearn\\externals\\joblib\\__init__.py:15: DeprecationWarning: sklearn.externals.joblib is deprecated in 0.21 and will be removed in 0.23. Please import this functionality directly from joblib, which can be installed with: pip install joblib. If this warning is raised when loading pickled models, you may need to re-serialize those models with scikit-learn 0.21+.\n",
      "  warnings.warn(msg, category=DeprecationWarning)\n",
      "C:\\Users\\Mouni\\AppData\\Local\\Continuum\\anaconda3\\lib\\site-packages\\qtawesome\\iconic_font.py:276: UserWarning: You need to have a running QApplication to use QtAwesome!\n",
      "  warnings.warn(\"You need to have a running \"\n"
     ]
    },
    {
     "data": {
      "text/html": [
       "<div id=\"glowscript\" class=\"glowscript\"></div>"
      ],
      "text/plain": [
       "<IPython.core.display.HTML object>"
      ]
     },
     "metadata": {},
     "output_type": "display_data"
    },
    {
     "data": {
      "application/javascript": [
       "if (typeof Jupyter !== \"undefined\") { window.__context = { glowscript_container: $(\"#glowscript\").removeAttr(\"id\")};}else{ element.textContent = ' ';}"
      ],
      "text/plain": [
       "<IPython.core.display.Javascript object>"
      ]
     },
     "metadata": {},
     "output_type": "display_data"
    },
    {
     "name": "stderr",
     "output_type": "stream",
     "text": [
      "C:\\Users\\Mouni\\AppData\\Local\\Continuum\\anaconda3\\lib\\pkgutil.py:107: VisibleDeprecationWarning: zmq.eventloop.minitornado is deprecated in pyzmq 14.0 and will be removed.\n",
      "    Install tornado itself to use zmq with the tornado IOLoop.\n",
      "    \n",
      "  yield from walk_packages(path, info.name+'.', onerror)\n"
     ]
    },
    {
     "name": "stdout",
     "output_type": "stream",
     "text": [
      "Crypto              builtins            menuinst            sockshandler\n",
      "Cython              bz2                 mimetypes           sortedcollections\n",
      "IPython             cProfile            mistune             sortedcontainers\n",
      "OpenSSL             calendar            mkl                 soupsieve\n",
      "PIL                 certifi             mkl_fft             sphinx\n",
      "PyQt5               cffi                mkl_random          sphinxcontrib\n",
      "__future__          cgi                 mmap                spyder\n",
      "_abc                cgitb               mmapfile            spyder_breakpoints\n",
      "_ast                chardet             mmsystem            spyder_io_dcm\n",
      "_asyncio            chunk               mock                spyder_io_hdf5\n",
      "_bisect             click               modulefinder        spyder_kernels\n",
      "_blake2             cloudpickle         more_itertools      spyder_profiler\n",
      "_bootlocale         clyent              mpmath              spyder_pylint\n",
      "_bz2                cmath               msgpack             sqlalchemy\n",
      "_cffi_backend       cmd                 msilib              sqlite3\n",
      "_codecs             code                msvcrt              sre_compile\n",
      "_codecs_cn          codecs              multidict           sre_constants\n",
      "_codecs_hk          codeop              multipledispatch    sre_parse\n",
      "_codecs_iso2022     collections         multiprocessing     ssl\n",
      "_codecs_jp          colorama            navigator_updater   sspi\n",
      "_codecs_kr          colorsys            nbconvert           sspicon\n",
      "_codecs_tw          commctrl            nbformat            stat\n",
      "_collections        compileall          netbios             statistics\n",
      "_collections_abc    comtypes            netrc               statsmodels\n",
      "_compat_pickle      concurrent          networkx            storemagic\n",
      "_compression        conda               nltk                string\n",
      "_contextvars        conda_build         nntplib             stringprep\n",
      "_csv                conda_env           nose                struct\n",
      "_ctypes             conda_package_handling notebook            subprocess\n",
      "_ctypes_test        conda_verify        nt                  sunau\n",
      "_datetime           configparser        ntpath              symbol\n",
      "_decimal            contextlib          ntsecuritycon       sympy\n",
      "_dummy_thread       contextlib2         nturl2path          sympyprinting\n",
      "_elementtree        contextvars         numba               symtable\n",
      "_functools          copy                numbers             sys\n",
      "_hashlib            copyreg             numexpr             sysconfig\n",
      "_heapq              crypt               numpy               tables\n",
      "_imp                cryptography        numpydoc            tabnanny\n",
      "_io                 csv                 odbc                tarfile\n",
      "_json               ctypes              olefile             tblib\n",
      "_locale             curl                opcode              telnetlib\n",
      "_lsprof             curses              openpyxl            tempfile\n",
      "_lzma               cwp                 operator            terminado\n",
      "_markupbase         cycler              optparse            test\n",
      "_md5                cython              os                  test_data\n",
      "_msi                cythonmagic         packaging           test_pycosat\n",
      "_multibytecodec     cytoolz             pandas              testpath\n",
      "_multiprocessing    dask                pandocfilters       tests\n",
      "_nsis               dataclasses         parser              textwrap\n",
      "_opcode             datetime            parso               this\n",
      "_operator           dateutil            partd               threading\n",
      "_osx_support        dbi                 past                time\n",
      "_overlapped         dbm                 path                timeit\n",
      "_pickle             dde                 pathlib             timer\n",
      "_py_abc             decimal             pathlib2            tkinter\n",
      "_pydecimal          decorator           patsy               tlz\n",
      "_pyio               defusedxml          pdb                 token\n",
      "_pylief             difflib             pep8                tokenize\n",
      "_pyrsistent_version dis                 perfmon             toolz\n",
      "_pytest             distributed         pickle              tornado\n",
      "_queue              distutils           pickleshare         tqdm\n",
      "_random             doctest             pickletools         trace\n",
      "_sha1               docutils            pip                 traceback\n",
      "_sha256             dummy_threading     pipes               tracemalloc\n",
      "_sha3               easy_install        pkg_resources       traitlets\n",
      "_sha512             easyprocess         pkginfo             tty\n",
      "_signal             email               pkgutil             turtle\n",
      "_sitebuiltins       encodings           platform            turtledemo\n",
      "_socket             ensurepip           plistlib            txaio\n",
      "_sqlite3            entrypoint2         pluggy              types\n",
      "_sre                entrypoints         ply                 typing\n",
      "_ssl                enum                poplib              unicodecsv\n",
      "_stat               errno               posixpath           unicodedata\n",
      "_string             et_xmlfile          pprint              unittest\n",
      "_strptime           fastcache           profile             urllib\n",
      "_struct             faulthandler        prometheus_client   urllib3\n",
      "_symtable           filecmp             prompt_toolkit      uu\n",
      "_system_path        fileinput           pstats              uuid\n",
      "_testbuffer         filelock            psutil              venv\n",
      "_testcapi           flask               pty                 vpython\n",
      "_testconsole        fnmatch             pvectorc            warnings\n",
      "_testimportmultiple formatter           py                  wave\n",
      "_testmultiphase     fractions           py_compile          wcwidth\n",
      "_thread             ftplib              pyclbr              weakref\n",
      "_threading_local    functools           pycodestyle         webbrowser\n",
      "_tkinter            future              pycosat             webencodings\n",
      "_tracemalloc        gc                  pycparser           werkzeug\n",
      "_warnings           genericpath         pycurl              wheel\n",
      "_weakref            getopt              pydoc               widgetsnbextension\n",
      "_weakrefset         getpass             pydoc_data          win2kras\n",
      "_win32sysloader     gettext             pydotplus           win32api\n",
      "_winapi             gevent              pyexpat             win32clipboard\n",
      "_winxptheme         glob                pyflakes            win32com\n",
      "_yaml               glob2               pygments            win32con\n",
      "abc                 graphviz            pylab               win32console\n",
      "adodbapi            greenlet            pylint              win32cred\n",
      "afxres              gzip                pyodbc              win32crypt\n",
      "aifc                h5py                pyparsing           win32cryptcon\n",
      "aiohttp             hashlib             pyreadline          win32event\n",
      "alabaster           heapdict            pyrsistent          win32evtlog\n",
      "anaconda_navigator  heapq               pyscreenshot        win32evtlogutil\n",
      "anaconda_project    hmac                pytest              win32file\n",
      "antigravity         html                pytest_arraydiff    win32gui\n",
      "apriori             html5lib            pytest_doctestplus  win32gui_struct\n",
      "argparse            http                pytest_openfiles    win32help\n",
      "array               idlelib             pytest_remotedata   win32inet\n",
      "asn1crypto          idna                pythoncom           win32inetcon\n",
      "ast                 imageio             pytz                win32job\n",
      "astroid             imagesize           pywin               win32lz\n",
      "astropy             imaplib             pywin32_testutil    win32net\n",
      "async_timeout       imghdr              pywintypes          win32netcon\n",
      "asynchat            imp                 pywt                win32pdh\n",
      "asyncio             importlib           pyximport           win32pdhquery\n",
      "asyncore            importlib_metadata  qtawesome           win32pdhutil\n",
      "atexit              inspect             qtconsole           win32pipe\n",
      "atomicwrites        io                  qtpy                win32print\n",
      "attr                ipaddress           queue               win32process\n"
     ]
    },
    {
     "name": "stdout",
     "output_type": "stream",
     "text": [
      "audioop             ipykernel           quopri              win32profile\n",
      "autobahn            ipykernel_launcher  random              win32ras\n",
      "autoreload          ipython_genutils    rasutil             win32rcparser\n",
      "babel               ipywidgets          re                  win32security\n",
      "backcall            isapi               readline            win32service\n",
      "backports           isort               regcheck            win32serviceutil\n",
      "base64              isympy              regutil             win32timezone\n",
      "bdb                 itertools           reprlib             win32trace\n",
      "binascii            itsdangerous        requests            win32traceutil\n",
      "binhex              jdcal               rlcompleter         win32transaction\n",
      "binstar_client      jedi                rmagic              win32ts\n",
      "bisect              jinja2              rope                win32ui\n",
      "bitarray            joblib              ruamel_yaml         win32uiole\n",
      "bkcharts            json                run                 win32verstamp\n",
      "bleach              json5               runpy               win32wnet\n",
      "bokeh               jsonschema          sched               win_inet_pton\n",
      "boto                jupyter             scipy               win_unicode_console\n",
      "bottleneck          jupyter_client      scripts             wincertstore\n",
      "brain_argparse      jupyter_console     seaborn             winerror\n",
      "brain_attrs         jupyter_core        secrets             winioctlcon\n",
      "brain_builtin_inference jupyter_server_proxy select              winnt\n",
      "brain_collections   jupyterlab          selectors           winperf\n",
      "brain_curses        jupyterlab_server   send2trash          winpty\n",
      "brain_dateutil      keyring             servicemanager      winreg\n",
      "brain_fstrings      keyword             setuptools          winsound\n",
      "brain_functools     kiwisolver          shelve              winxpgui\n",
      "brain_gi            lazy_object_proxy   shlex               winxptheme\n",
      "brain_hashlib       lib2to3             shutil              wrapt\n",
      "brain_http          libarchive          signal              wsgiref\n",
      "brain_io            libfuturize         simpervisor         xdrlib\n",
      "brain_mechanize     libpasteurize       simplegeneric       xlrd\n",
      "brain_multiprocessing lief                singledispatch      xlsxwriter\n",
      "brain_namedtuple_enum linecache           singledispatch_helpers xlwings\n",
      "brain_nose          llvmlite            sip                 xlwt\n",
      "brain_numpy         locale              sipconfig           xml\n",
      "brain_pkg_resources locket              sipdistutils        xmlrpc\n",
      "brain_pytest        logging             site                xxsubtype\n",
      "brain_qt            lxml                six                 yaml\n",
      "brain_random        lzma                skimage             yarl\n",
      "brain_re            macpath             sklearn             zict\n",
      "brain_six           mailbox             smtpd               zipapp\n",
      "brain_ssl           mailcap             smtplib             zipfile\n",
      "brain_subprocess    markupsafe          sndhdr              zipimport\n",
      "brain_threading     marshal             snowballstemmer     zipp\n",
      "brain_typing        math                socket              zlib\n",
      "brain_uuid          matplotlib          socketserver        zmq\n",
      "bs4                 mccabe              socks               \n",
      "\n",
      "Enter any module name to get more help.  Or, type \"modules spam\" to search\n",
      "for modules whose name or summary contain the string \"spam\".\n",
      "\n",
      "DEBUG:matplotlib.pyplot:Loaded backend module://ipykernel.pylab.backend_inline version unknown.\n"
     ]
    }
   ],
   "source": [
    "help('modules')"
   ]
  },
  {
   "cell_type": "code",
   "execution_count": 2,
   "metadata": {
    "collapsed": true
   },
   "outputs": [
    {
     "ename": "NameError",
     "evalue": "name 'pi' is not defined",
     "output_type": "error",
     "traceback": [
      "\u001b[1;31m---------------------------------------------------------------------------\u001b[0m",
      "\u001b[1;31mNameError\u001b[0m                                 Traceback (most recent call last)",
      "\u001b[1;32m<ipython-input-2-f84ab820532c>\u001b[0m in \u001b[0;36m<module>\u001b[1;34m\u001b[0m\n\u001b[1;32m----> 1\u001b[1;33m \u001b[0mpi\u001b[0m\u001b[1;33m\u001b[0m\u001b[1;33m\u001b[0m\u001b[0m\n\u001b[0m",
      "\u001b[1;31mNameError\u001b[0m: name 'pi' is not defined"
     ]
    }
   ],
   "source": [
    "pi"
   ]
  },
  {
   "cell_type": "code",
   "execution_count": 3,
   "metadata": {},
   "outputs": [],
   "source": [
    "import math"
   ]
  },
  {
   "cell_type": "code",
   "execution_count": 4,
   "metadata": {
    "collapsed": true
   },
   "outputs": [
    {
     "name": "stdout",
     "output_type": "stream",
     "text": [
      "3.141592653589793\n"
     ]
    }
   ],
   "source": [
    "print(math.pi)"
   ]
  },
  {
   "cell_type": "code",
   "execution_count": 5,
   "metadata": {
    "collapsed": true
   },
   "outputs": [
    {
     "name": "stdout",
     "output_type": "stream",
     "text": [
      "['__doc__', '__loader__', '__name__', '__package__', '__spec__', 'acos', 'acosh', 'asin', 'asinh', 'atan', 'atan2', 'atanh', 'ceil', 'copysign', 'cos', 'cosh', 'degrees', 'e', 'erf', 'erfc', 'exp', 'expm1', 'fabs', 'factorial', 'floor', 'fmod', 'frexp', 'fsum', 'gamma', 'gcd', 'hypot', 'inf', 'isclose', 'isfinite', 'isinf', 'isnan', 'ldexp', 'lgamma', 'log', 'log10', 'log1p', 'log2', 'modf', 'nan', 'pi', 'pow', 'radians', 'remainder', 'sin', 'sinh', 'sqrt', 'tan', 'tanh', 'tau', 'trunc']\n"
     ]
    }
   ],
   "source": [
    "print(dir(math))"
   ]
  },
  {
   "cell_type": "code",
   "execution_count": 6,
   "metadata": {
    "collapsed": true
   },
   "outputs": [
    {
     "name": "stdout",
     "output_type": "stream",
     "text": [
      "4.0\n"
     ]
    }
   ],
   "source": [
    "print(math.sqrt(16))"
   ]
  },
  {
   "cell_type": "code",
   "execution_count": 7,
   "metadata": {},
   "outputs": [],
   "source": [
    "import calendar"
   ]
  },
  {
   "cell_type": "code",
   "execution_count": 10,
   "metadata": {
    "collapsed": true
   },
   "outputs": [
    {
     "name": "stdout",
     "output_type": "stream",
     "text": [
      "                                  2021\n",
      "\n",
      "      January                   February                   March\n",
      "Mo Tu We Th Fr Sa Su      Mo Tu We Th Fr Sa Su      Mo Tu We Th Fr Sa Su\n",
      "             1  2  3       1  2  3  4  5  6  7       1  2  3  4  5  6  7\n",
      " 4  5  6  7  8  9 10       8  9 10 11 12 13 14       8  9 10 11 12 13 14\n",
      "11 12 13 14 15 16 17      15 16 17 18 19 20 21      15 16 17 18 19 20 21\n",
      "18 19 20 21 22 23 24      22 23 24 25 26 27 28      22 23 24 25 26 27 28\n",
      "25 26 27 28 29 30 31                                29 30 31\n",
      "\n",
      "       April                      May                       June\n",
      "Mo Tu We Th Fr Sa Su      Mo Tu We Th Fr Sa Su      Mo Tu We Th Fr Sa Su\n",
      "          1  2  3  4                      1  2          1  2  3  4  5  6\n",
      " 5  6  7  8  9 10 11       3  4  5  6  7  8  9       7  8  9 10 11 12 13\n",
      "12 13 14 15 16 17 18      10 11 12 13 14 15 16      14 15 16 17 18 19 20\n",
      "19 20 21 22 23 24 25      17 18 19 20 21 22 23      21 22 23 24 25 26 27\n",
      "26 27 28 29 30            24 25 26 27 28 29 30      28 29 30\n",
      "                          31\n",
      "\n",
      "        July                     August                  September\n",
      "Mo Tu We Th Fr Sa Su      Mo Tu We Th Fr Sa Su      Mo Tu We Th Fr Sa Su\n",
      "          1  2  3  4                         1             1  2  3  4  5\n",
      " 5  6  7  8  9 10 11       2  3  4  5  6  7  8       6  7  8  9 10 11 12\n",
      "12 13 14 15 16 17 18       9 10 11 12 13 14 15      13 14 15 16 17 18 19\n",
      "19 20 21 22 23 24 25      16 17 18 19 20 21 22      20 21 22 23 24 25 26\n",
      "26 27 28 29 30 31         23 24 25 26 27 28 29      27 28 29 30\n",
      "                          30 31\n",
      "\n",
      "      October                   November                  December\n",
      "Mo Tu We Th Fr Sa Su      Mo Tu We Th Fr Sa Su      Mo Tu We Th Fr Sa Su\n",
      "             1  2  3       1  2  3  4  5  6  7             1  2  3  4  5\n",
      " 4  5  6  7  8  9 10       8  9 10 11 12 13 14       6  7  8  9 10 11 12\n",
      "11 12 13 14 15 16 17      15 16 17 18 19 20 21      13 14 15 16 17 18 19\n",
      "18 19 20 21 22 23 24      22 23 24 25 26 27 28      20 21 22 23 24 25 26\n",
      "25 26 27 28 29 30 31      29 30                     27 28 29 30 31\n",
      "\n"
     ]
    }
   ],
   "source": [
    "print(calendar.calendar(2021))"
   ]
  },
  {
   "cell_type": "code",
   "execution_count": 14,
   "metadata": {
    "collapsed": true
   },
   "outputs": [
    {
     "name": "stdout",
     "output_type": "stream",
     "text": [
      "   November 2021\n",
      "Mo Tu We Th Fr Sa Su\n",
      " 1  2  3  4  5  6  7\n",
      " 8  9 10 11 12 13 14\n",
      "15 16 17 18 19 20 21\n",
      "22 23 24 25 26 27 28\n",
      "29 30\n",
      "\n"
     ]
    }
   ],
   "source": [
    "print(calendar.month(2021,11))"
   ]
  },
  {
   "cell_type": "markdown",
   "metadata": {},
   "source": [
    "**User Defined Modules**"
   ]
  },
  {
   "cell_type": "code",
   "execution_count": 1,
   "metadata": {},
   "outputs": [],
   "source": [
    "import Programs"
   ]
  },
  {
   "cell_type": "code",
   "execution_count": 2,
   "metadata": {
    "collapsed": true
   },
   "outputs": [
    {
     "name": "stdout",
     "output_type": "stream",
     "text": [
      "Even Number\n"
     ]
    }
   ],
   "source": [
    "Programs.evenOdd(88)"
   ]
  },
  {
   "cell_type": "code",
   "execution_count": 3,
   "metadata": {
    "collapsed": true
   },
   "outputs": [
    {
     "name": "stdout",
     "output_type": "stream",
     "text": [
      "Odd Number\n"
     ]
    }
   ],
   "source": [
    "Programs.evenOdd(8889)"
   ]
  },
  {
   "cell_type": "code",
   "execution_count": 4,
   "metadata": {
    "collapsed": true
   },
   "outputs": [
    {
     "name": "stdout",
     "output_type": "stream",
     "text": [
      "Not Leap year\n"
     ]
    }
   ],
   "source": [
    "Programs.leap_year(1800)"
   ]
  },
  {
   "cell_type": "code",
   "execution_count": 5,
   "metadata": {
    "collapsed": true
   },
   "outputs": [
    {
     "name": "stdout",
     "output_type": "stream",
     "text": [
      "Leap year\n"
     ]
    }
   ],
   "source": [
    "Programs.leap_year(2020)"
   ]
  },
  {
   "cell_type": "markdown",
   "metadata": {},
   "source": [
    "### Regular Expressions\n",
    "- Commonly used to search based on pattern\n",
    "- Syntax:\n",
    "    - import re\n",
    "    - re.method(\"pattern\", \"string\")"
   ]
  },
  {
   "cell_type": "markdown",
   "metadata": {},
   "source": [
    "- re.findall()\n",
    "- re.search()\n",
    "- re.match()"
   ]
  },
  {
   "cell_type": "code",
   "execution_count": null,
   "metadata": {},
   "outputs": [],
   "source": [
    "# [ ] --->(*Set or group*)  group of combination \n",
    "                   #  of chars & numbers etc.\n",
    "# \\  ---> Special sequence\n",
    "# .  ---> represent a Unknown character\n",
    "# ^  ----> (*Caret*)starts with\n",
    "# $  ---> (*Dollar*)ends with\n",
    "# * ---> 0 or more occorance\n",
    "# + ---> 1 or more occorance\n",
    "# { } ----> Exactly the specified no.of occorance\n",
    "# |  ----> or\n",
    "# () ---> Group"
   ]
  },
  {
   "cell_type": "code",
   "execution_count": null,
   "metadata": {},
   "outputs": [],
   "source": [
    "## [ ] --> Set\n",
    "#=============\n",
    "## [0-9] --> finds all numbers\n",
    "## [a-z] --> finds alphabets(small letters)\n",
    "## [a-zA-Z] --> both capital and small letters\n",
    "## [9AO] --> finds 9's , A's, O's"
   ]
  },
  {
   "cell_type": "code",
   "execution_count": 6,
   "metadata": {},
   "outputs": [],
   "source": [
    "## \\ ---> (Special Sequence)\n",
    "#===========================\n",
    "# \\d --> Any digit\n",
    "# \\D --> non-digit\n",
    "# \\s --> whitesapce (Returns 'space')\n",
    "# \\S --> non-whitespace (Removes 'space')\n",
    "# \\w --> alphanumeric\n",
    "# \\W --> non-alphanumeric (Ex: !@#$%^)"
   ]
  },
  {
   "cell_type": "code",
   "execution_count": 7,
   "metadata": {},
   "outputs": [],
   "source": [
    "string1 = '''The United States can now start giving children aged \n",
    "5-11 the Pfizer-BioNtech Covid vaccine, US health authorities \n",
    "said Tuesday as they gave final approval to this new phase of \n",
    "fighting the pandemic. Stay with TOI for the latest updates-'''"
   ]
  },
  {
   "cell_type": "markdown",
   "metadata": {},
   "source": [
    "- Write a pattern to search for letters \"i\" to \"m\" "
   ]
  },
  {
   "cell_type": "code",
   "execution_count": 9,
   "metadata": {},
   "outputs": [],
   "source": [
    "import re"
   ]
  },
  {
   "cell_type": "code",
   "execution_count": 10,
   "metadata": {
    "collapsed": true
   },
   "outputs": [
    {
     "data": {
      "text/plain": [
       "['i',\n",
       " 'i',\n",
       " 'i',\n",
       " 'i',\n",
       " 'l',\n",
       " 'i',\n",
       " 'i',\n",
       " 'i',\n",
       " 'i',\n",
       " 'l',\n",
       " 'i',\n",
       " 'i',\n",
       " 'i',\n",
       " 'i',\n",
       " 'l',\n",
       " 'l',\n",
       " 'i',\n",
       " 'i',\n",
       " 'i',\n",
       " 'm',\n",
       " 'i',\n",
       " 'i',\n",
       " 'l']"
      ]
     },
     "execution_count": 10,
     "metadata": {},
     "output_type": "execute_result"
    }
   ],
   "source": [
    "re.findall('[i-m]',string1)"
   ]
  },
  {
   "cell_type": "code",
   "execution_count": 18,
   "metadata": {},
   "outputs": [
    {
     "name": "stdout",
     "output_type": "stream",
     "text": [
      "20501A0277\n",
      "20501A0201\n"
     ]
    }
   ],
   "source": [
    "rollnumbers = ['20501A0277', '21501A0277', '20501A0201']\n",
    "for i in rollnumbers:\n",
    "    if re.findall('^20',i):\n",
    "        print(i)"
   ]
  },
  {
   "cell_type": "code",
   "execution_count": 21,
   "metadata": {},
   "outputs": [
    {
     "data": {
      "text/plain": [
       "['1', '4', '5', '0', '0', '0', '2', '9', '9']"
      ]
     },
     "execution_count": 21,
     "metadata": {},
     "output_type": "execute_result"
    }
   ],
   "source": [
    "string2 = 'batch 1 strength is 45000 and batch 2 is 99'\n",
    "re.findall('\\d', string2)"
   ]
  },
  {
   "cell_type": "code",
   "execution_count": 22,
   "metadata": {},
   "outputs": [
    {
     "data": {
      "text/plain": [
       "['45', '00', '99']"
      ]
     },
     "execution_count": 22,
     "metadata": {},
     "output_type": "execute_result"
    }
   ],
   "source": [
    "re.findall('[0-9]{2}', string2)"
   ]
  },
  {
   "cell_type": "code",
   "execution_count": 23,
   "metadata": {},
   "outputs": [],
   "source": [
    "def cell_Number(n):\n",
    "    if re.match('^[6-9][0-9]{9}$', n):\n",
    "        print(n,' :  Indian Cell Number')\n",
    "    else:\n",
    "        print(n, ' : Please check the number')"
   ]
  },
  {
   "cell_type": "code",
   "execution_count": 26,
   "metadata": {},
   "outputs": [
    {
     "name": "stdout",
     "output_type": "stream",
     "text": [
      "9876543210  :  Indian Cell Number\n"
     ]
    }
   ],
   "source": [
    "cell_Number('9876543210')"
   ]
  },
  {
   "cell_type": "code",
   "execution_count": 27,
   "metadata": {},
   "outputs": [
    {
     "name": "stdout",
     "output_type": "stream",
     "text": [
      "98765432  : Please check the number\n"
     ]
    }
   ],
   "source": [
    "cell_Number('98765432')"
   ]
  },
  {
   "cell_type": "code",
   "execution_count": null,
   "metadata": {},
   "outputs": [],
   "source": []
  }
 ],
 "metadata": {
  "kernelspec": {
   "display_name": "Python 3",
   "language": "python",
   "name": "python3"
  },
  "language_info": {
   "codemirror_mode": {
    "name": "ipython",
    "version": 3
   },
   "file_extension": ".py",
   "mimetype": "text/x-python",
   "name": "python",
   "nbconvert_exporter": "python",
   "pygments_lexer": "ipython3",
   "version": "3.7.3"
  }
 },
 "nbformat": 4,
 "nbformat_minor": 2
}
